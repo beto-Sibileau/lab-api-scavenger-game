{
 "cells": [
  {
   "cell_type": "markdown",
   "metadata": {},
   "source": [
    "# API Scavenger Game\n",
    "\n",
    "## Challenge 1: Fork Languages\n",
    "\n",
    "You will find out how many programming languages are used among all the forks created from the main lab repo of your bootcamp."
   ]
  },
  {
   "cell_type": "code",
   "execution_count": 1,
   "metadata": {},
   "outputs": [],
   "source": [
    "# import libraries here\n",
    "import requests\n",
    "import json\n",
    "import pandas as pd\n",
    "import numpy as np\n",
    "import datetime as dt\n",
    "from dateutil.parser import parse\n",
    "import re\n",
    "import base64"
   ]
  },
  {
   "cell_type": "code",
   "execution_count": 2,
   "metadata": {},
   "outputs": [],
   "source": [
    "# pretty print function for JSON\n",
    "def pprint(json_var):\n",
    "    print(json.dumps(json_var, indent=4, sort_keys=True))\n",
    "    \n",
    "# check status function\n",
    "def check_status(response):\n",
    "    if response.status_code == 200:\n",
    "        print('Satisfactory request')\n",
    "    else:\n",
    "        print('Your status code is:', response.status_code)\n",
    "        \n",
    "# function: pretty write in json to file\n",
    "def pwrite(json_var,fileName):\n",
    "    with open(fileName,'w') as respFile:\n",
    "        json.dump(json_var, respFile, indent=4, sort_keys=True)"
   ]
  },
  {
   "cell_type": "markdown",
   "metadata": {},
   "source": [
    "Assuming the main lab repo is ironhack-datalabs/madrid-oct-2018, you will:\n",
    "\n",
    "#### 1. Obtain the full list of forks created from the main lab repo via Github API."
   ]
  },
  {
   "cell_type": "markdown",
   "metadata": {},
   "source": [
    "To list forks, we can use the GET method. As explained in the GitHub API documentation, we need to make the request to: GET /repos/:owner/:repo/forks."
   ]
  },
  {
   "cell_type": "code",
   "execution_count": 3,
   "metadata": {},
   "outputs": [
    {
     "name": "stdout",
     "output_type": "stream",
     "text": [
      "Satisfactory request\n",
      "Number of forks created at 'ironhack-datalabs/madrid-oct-2018/' is: 15\n"
     ]
    }
   ],
   "source": [
    "# your code here\n",
    "hostName = 'repos/ironhack-datalabs/'\n",
    "repoName = 'madrid-oct-2018/'\n",
    "url = 'https://api.github.com/'\n",
    "search = 'forks'\n",
    "\n",
    "# authorization for requests\n",
    "userN ='beto-Sibileau'\n",
    "userT = \"beto-Token\"\n",
    "\n",
    "response = requests.get(f\"{url}{hostName}{repoName}{search}\", auth=(userN,userT))\n",
    "#pprint(response.json())\n",
    "\n",
    "# check status\n",
    "check_status(response)\n",
    "\n",
    "# convert response to list of dictionaries\n",
    "forksJson = response.json()\n",
    "print(f\"Number of forks created at '{hostName[6:]}{repoName}' is: {len(forksJson)}\")"
   ]
  },
  {
   "cell_type": "markdown",
   "metadata": {},
   "source": [
    "#### 2. Loop the JSON response to find out the language attribute of each fork. Use an array to store the language attributes of each fork.\n",
    "Hint: Each language should appear only once in your array.\n",
    "Print the language array. It should be something like: [\"Python\", \"Jupyter Notebook\", \"HTML\"]"
   ]
  },
  {
   "cell_type": "code",
   "execution_count": 4,
   "metadata": {},
   "outputs": [
    {
     "name": "stdout",
     "output_type": "stream",
     "text": [
      "['Jupyter Notebook', 'HTML']\n",
      "[None 'Jupyter Notebook' 'HTML']\n"
     ]
    }
   ],
   "source": [
    "# your code here\n",
    "\n",
    "# loop on the Json response (filters None)\n",
    "languages = []\n",
    "for elem in forksJson:\n",
    "    if elem['language']:\n",
    "        if elem['language'] not in languages:\n",
    "            languages.append(elem['language'])\n",
    "\n",
    "print(languages)\n",
    "\n",
    "# solution directly from Pandas (includes None)\n",
    "df = pd.DataFrame(forksJson)\n",
    "print(df.language.unique())\n"
   ]
  },
  {
   "cell_type": "markdown",
   "metadata": {},
   "source": [
    "## Challenge 2: Count Commits\n",
    "Count how many commits were made in the month of october of 2018.\n",
    "#### 1. Obtain all the commits made in October 2018 via API, which is a JSON array that contains multiple commit objects."
   ]
  },
  {
   "cell_type": "code",
   "execution_count": 5,
   "metadata": {},
   "outputs": [
    {
     "name": "stdout",
     "output_type": "stream",
     "text": [
      "Satisfactory request\n",
      "There are no commits made in October 2018\n"
     ]
    }
   ],
   "source": [
    "# your code here\n",
    "\n",
    "search = 'commits'\n",
    "response = requests.get(f\"{url}{hostName}{repoName}{search}\", auth=(userN,userT))\n",
    "\n",
    "# check status\n",
    "check_status(response)\n",
    "\n",
    "# convert response to list of dictionaries\n",
    "commitsJson = response.json()\n",
    "#pprint(commitsJson)\n",
    "#pwrite(commitsJson,'commits')\n",
    "\n",
    "# json to pandas dataframe with normalize\n",
    "dfCommits = pd.json_normalize(commitsJson)\n",
    "\n",
    "#pd.set_option('display.max_columns', None)\n",
    "#dfCommits.head()\n",
    "\n",
    "# filter using pandas!\n",
    "yearSearch  = 2018\n",
    "monthSearch = 'October'\n",
    "logicYear  = [parse(x).year  == yearSearch               for x in dfCommits['commit.committer.date']]\n",
    "logicMonth = [parse(x).month == parse(monthSearch).month for x in dfCommits['commit.committer.date']]\n",
    "commits_found = dfCommits[np.array(logicYear) & np.array(logicMonth)]\n",
    "\n",
    "if commits_found.empty:\n",
    "    print(f\"There are no commits made in {monthSearch} {yearSearch}\")\n",
    "else:\n",
    "    print(f\"Number of commits made in {monthSearch} {yearSearch} is: {len(commits_found)}\")\n",
    "    "
   ]
  },
  {
   "cell_type": "markdown",
   "metadata": {},
   "source": [
    "#### 2. Count how many commit objects are contained in the array."
   ]
  },
  {
   "cell_type": "code",
   "execution_count": 6,
   "metadata": {},
   "outputs": [
    {
     "name": "stdout",
     "output_type": "stream",
     "text": [
      "Number of commits created at 'ironhack-datalabs/madrid-oct-2018/' is: 30\n"
     ]
    }
   ],
   "source": [
    "# your code here\n",
    "\n",
    "# (NO FILTER) --> number of commits in ironhack-datalabs/madrid-oct-2018/\n",
    "print(f\"Number of commits created at '{hostName[6:]}{repoName}' is: {len(commitsJson)}\")"
   ]
  },
  {
   "cell_type": "markdown",
   "metadata": {},
   "source": [
    "## Challenge 3: Hidden Cold Joke\n",
    "\n",
    "Using Python, call Github API to find out the cold joke contained in the 24 secret files in the following repo:\n",
    "\n",
    "https://github.com/ironhack-datalabs/scavenger\n",
    "\n",
    "The filenames of the secret files contain .scavengerhunt and they are scattered in different directories of this repo. The secret files are named from .0001.scavengerhunt to .0024.scavengerhunt. They are scattered randomly throughout this repo. You need to search for these files by calling the Github API, not searching the local files on your computer.\n",
    "\n",
    "#### 1. Find the secret files."
   ]
  },
  {
   "cell_type": "code",
   "execution_count": 7,
   "metadata": {},
   "outputs": [
    {
     "name": "stdout",
     "output_type": "stream",
     "text": [
      "Satisfactory request\n",
      "There are 1 commits with SHA's: ['9308ccc8a4c34c5e3a991ee815222a9691c32476']\n",
      "\n",
      "DataFrame 'dfFiles' has these data types:\n",
      "sha             object\n",
      "filename        object\n",
      "status          object\n",
      "additions        int64\n",
      "deletions        int64\n",
      "changes          int64\n",
      "blob_url        object\n",
      "raw_url         object\n",
      "contents_url    object\n",
      "patch           object\n",
      "dtype: object\n",
      "\n",
      "The Secret files are:\n",
      "[['0006.scavengerhunt'], ['0008.scavengerhunt'], ['0012.scavengerhunt'], ['0007.scavengerhunt'], ['0021.scavengerhunt'], ['0022.scavengerhunt'], ['0005.scavengerhunt'], ['0018.scavengerhunt'], ['0016.scavengerhunt'], ['0024.scavengerhunt'], ['0010.scavengerhunt'], ['0014.scavengerhunt'], ['0011.scavengerhunt'], ['0023.scavengerhunt'], ['0020.scavengerhunt'], ['0003.scavengerhunt'], ['0004.scavengerhunt'], ['0019.scavengerhunt'], ['0017.scavengerhunt'], ['0002.scavengerhunt'], ['0013.scavengerhunt'], ['0015.scavengerhunt'], ['0009.scavengerhunt'], ['0001.scavengerhunt']]\n"
     ]
    }
   ],
   "source": [
    "# your code here\n",
    "hostName = 'repos/ironhack-datalabs/'\n",
    "repoName = 'scavenger/'\n",
    "url = 'https://api.github.com/'\n",
    "search = 'commits'\n",
    "\n",
    "response = requests.get(f\"{url}{hostName}{repoName}{search}\", auth=(userN,userT))\n",
    "\n",
    "# check status\n",
    "check_status(response)\n",
    "\n",
    "# build dataframe from commits\n",
    "commitJson = response.json()\n",
    "dfCommit = pd.DataFrame(commitJson)\n",
    "print(f\"There are {len(commitJson)} commits with SHA's: {dfCommit.sha.values}\")\n",
    "\n",
    "# I take all files from the commit into a pandas data frame\n",
    "search = f\"commits/{dfCommit.sha[0]}\"\n",
    "response = requests.get(f\"{url}{hostName}{repoName}{search}\", auth=(userN,userT))\n",
    "dfFiles = pd.DataFrame(response.json()['files'])\n",
    "print(f\"\\nDataFrame 'dfFiles' has these data types:\\n{dfFiles.dtypes}\")\n",
    "\n",
    "# Apply regex to dfFiles.filename (iterable object)\n",
    "pat = '\\w+.scavengerhunt'\n",
    "filesMatch = [re.findall(pat,elem) for elem in dfFiles.filename if re.findall(pat,elem)]\n",
    "print(f\"\\nThe Secret files are:\\n{filesMatch}\")"
   ]
  },
  {
   "cell_type": "markdown",
   "metadata": {},
   "source": [
    "#### 2.  Sort the filenames ascendingly."
   ]
  },
  {
   "cell_type": "code",
   "execution_count": 8,
   "metadata": {},
   "outputs": [
    {
     "data": {
      "text/html": [
       "<div>\n",
       "<style scoped>\n",
       "    .dataframe tbody tr th:only-of-type {\n",
       "        vertical-align: middle;\n",
       "    }\n",
       "\n",
       "    .dataframe tbody tr th {\n",
       "        vertical-align: top;\n",
       "    }\n",
       "\n",
       "    .dataframe thead th {\n",
       "        text-align: right;\n",
       "    }\n",
       "</style>\n",
       "<table border=\"1\" class=\"dataframe\">\n",
       "  <thead>\n",
       "    <tr style=\"text-align: right;\">\n",
       "      <th></th>\n",
       "      <th>FileName</th>\n",
       "    </tr>\n",
       "  </thead>\n",
       "  <tbody>\n",
       "    <tr>\n",
       "      <th>23</th>\n",
       "      <td>0001.scavengerhunt</td>\n",
       "    </tr>\n",
       "    <tr>\n",
       "      <th>19</th>\n",
       "      <td>0002.scavengerhunt</td>\n",
       "    </tr>\n",
       "    <tr>\n",
       "      <th>15</th>\n",
       "      <td>0003.scavengerhunt</td>\n",
       "    </tr>\n",
       "    <tr>\n",
       "      <th>16</th>\n",
       "      <td>0004.scavengerhunt</td>\n",
       "    </tr>\n",
       "    <tr>\n",
       "      <th>6</th>\n",
       "      <td>0005.scavengerhunt</td>\n",
       "    </tr>\n",
       "    <tr>\n",
       "      <th>0</th>\n",
       "      <td>0006.scavengerhunt</td>\n",
       "    </tr>\n",
       "    <tr>\n",
       "      <th>3</th>\n",
       "      <td>0007.scavengerhunt</td>\n",
       "    </tr>\n",
       "    <tr>\n",
       "      <th>1</th>\n",
       "      <td>0008.scavengerhunt</td>\n",
       "    </tr>\n",
       "    <tr>\n",
       "      <th>22</th>\n",
       "      <td>0009.scavengerhunt</td>\n",
       "    </tr>\n",
       "    <tr>\n",
       "      <th>10</th>\n",
       "      <td>0010.scavengerhunt</td>\n",
       "    </tr>\n",
       "    <tr>\n",
       "      <th>12</th>\n",
       "      <td>0011.scavengerhunt</td>\n",
       "    </tr>\n",
       "    <tr>\n",
       "      <th>2</th>\n",
       "      <td>0012.scavengerhunt</td>\n",
       "    </tr>\n",
       "    <tr>\n",
       "      <th>20</th>\n",
       "      <td>0013.scavengerhunt</td>\n",
       "    </tr>\n",
       "    <tr>\n",
       "      <th>11</th>\n",
       "      <td>0014.scavengerhunt</td>\n",
       "    </tr>\n",
       "    <tr>\n",
       "      <th>21</th>\n",
       "      <td>0015.scavengerhunt</td>\n",
       "    </tr>\n",
       "    <tr>\n",
       "      <th>8</th>\n",
       "      <td>0016.scavengerhunt</td>\n",
       "    </tr>\n",
       "    <tr>\n",
       "      <th>18</th>\n",
       "      <td>0017.scavengerhunt</td>\n",
       "    </tr>\n",
       "    <tr>\n",
       "      <th>7</th>\n",
       "      <td>0018.scavengerhunt</td>\n",
       "    </tr>\n",
       "    <tr>\n",
       "      <th>17</th>\n",
       "      <td>0019.scavengerhunt</td>\n",
       "    </tr>\n",
       "    <tr>\n",
       "      <th>14</th>\n",
       "      <td>0020.scavengerhunt</td>\n",
       "    </tr>\n",
       "    <tr>\n",
       "      <th>4</th>\n",
       "      <td>0021.scavengerhunt</td>\n",
       "    </tr>\n",
       "    <tr>\n",
       "      <th>5</th>\n",
       "      <td>0022.scavengerhunt</td>\n",
       "    </tr>\n",
       "    <tr>\n",
       "      <th>13</th>\n",
       "      <td>0023.scavengerhunt</td>\n",
       "    </tr>\n",
       "    <tr>\n",
       "      <th>9</th>\n",
       "      <td>0024.scavengerhunt</td>\n",
       "    </tr>\n",
       "  </tbody>\n",
       "</table>\n",
       "</div>"
      ],
      "text/plain": [
       "              FileName\n",
       "23  0001.scavengerhunt\n",
       "19  0002.scavengerhunt\n",
       "15  0003.scavengerhunt\n",
       "16  0004.scavengerhunt\n",
       "6   0005.scavengerhunt\n",
       "0   0006.scavengerhunt\n",
       "3   0007.scavengerhunt\n",
       "1   0008.scavengerhunt\n",
       "22  0009.scavengerhunt\n",
       "10  0010.scavengerhunt\n",
       "12  0011.scavengerhunt\n",
       "2   0012.scavengerhunt\n",
       "20  0013.scavengerhunt\n",
       "11  0014.scavengerhunt\n",
       "21  0015.scavengerhunt\n",
       "8   0016.scavengerhunt\n",
       "18  0017.scavengerhunt\n",
       "7   0018.scavengerhunt\n",
       "17  0019.scavengerhunt\n",
       "14  0020.scavengerhunt\n",
       "4   0021.scavengerhunt\n",
       "5   0022.scavengerhunt\n",
       "13  0023.scavengerhunt\n",
       "9   0024.scavengerhunt"
      ]
     },
     "execution_count": 8,
     "metadata": {},
     "output_type": "execute_result"
    }
   ],
   "source": [
    "# your code here\n",
    "dfSortedFiles = pd.DataFrame(filesMatch, columns=['FileName']).sort_values('FileName')\n",
    "dfSortedFiles"
   ]
  },
  {
   "cell_type": "markdown",
   "metadata": {},
   "source": [
    "#### 3. Read the content of each secret files into an array of strings.\n",
    "Since the response is encoded, you will need to send the following information in the header of your request:\n",
    "````python\n",
    "headers = {'Accept': 'application/vnd.github.v3.raw'}\n",
    "````"
   ]
  },
  {
   "cell_type": "code",
   "execution_count": 9,
   "metadata": {},
   "outputs": [
    {
     "name": "stdout",
     "output_type": "stream",
     "text": [
      "['In', 'data', 'science,', '80', 'percent', 'of', 'time', 'spent', 'is', 'preparing', 'data,', '20', 'percent', 'of', 'time', 'is', 'spent', 'complaining', 'about', 'the', 'need', 'to', 'prepare', 'data.']\n"
     ]
    }
   ],
   "source": [
    "# your code here\n",
    "# Get sha's from secret files and sort them accordingly\n",
    "filesPointer = [True if re.findall(pat,elem) else False for elem in dfFiles.filename]\n",
    "filesSha = dfFiles.sha[filesPointer].reset_index()\n",
    "filesSha = filesSha.reindex(dfSortedFiles.index).reset_index()\n",
    "\n",
    "# now get content by sha's and decoded base64\n",
    "message = []\n",
    "for sha in filesSha.sha:\n",
    "    search = f\"git/blobs/{sha}\"\n",
    "    response = requests.get(f\"{url}{hostName}{repoName}{search}\", auth=(userN,userT))\n",
    "    base64_message = response.json()['content']\n",
    "    base64_bytes = base64_message.encode('ascii')\n",
    "    message_bytes = base64.b64decode(base64_bytes)\n",
    "    message.append(message_bytes.decode('ascii').rstrip(\"\\n\"))\n",
    "\n",
    "print(message)"
   ]
  },
  {
   "cell_type": "markdown",
   "metadata": {},
   "source": [
    "#### 4. Concatenate the strings in the array separating each two with a whitespace."
   ]
  },
  {
   "cell_type": "code",
   "execution_count": 10,
   "metadata": {},
   "outputs": [],
   "source": [
    "# your code here\n",
    "jointMessage = str(\" \").join(message)"
   ]
  },
  {
   "cell_type": "markdown",
   "metadata": {},
   "source": [
    "#### 5. Print out the joke."
   ]
  },
  {
   "cell_type": "code",
   "execution_count": 11,
   "metadata": {},
   "outputs": [
    {
     "name": "stdout",
     "output_type": "stream",
     "text": [
      "In data science, 80 percent of time spent is preparing data, 20 percent of time is spent complaining about the need to prepare data.\n"
     ]
    }
   ],
   "source": [
    "# your code here\n",
    "print(jointMessage)"
   ]
  },
  {
   "cell_type": "markdown",
   "metadata": {},
   "source": [
    "#### Draft"
   ]
  },
  {
   "cell_type": "code",
   "execution_count": null,
   "metadata": {},
   "outputs": [],
   "source": [
    "# commented junk code below\n",
    "\n",
    "#filesSha.reindex(dfSortedFiles.index)\n",
    "\n",
    "#filesSha.index[dfSortedFiles.index.values]\n",
    "\n",
    "#filesSha.sort_values(index=dfSortedFiles.index)\n",
    "#print(filesSha[dfSortedFiles.index.values])\n",
    "\n",
    "#re.findall(pat,dfFiles.filename[1])\n",
    "\n",
    "#print(dfFiles.filename[1])\n",
    "#dfFiles.str.findall(pat,dfFiles.filename)\n",
    "\n",
    "#fileSeries = pd.json_normalize(response.json()).files.values\n",
    "#fileSeries"
   ]
  }
 ],
 "metadata": {
  "kernelspec": {
   "display_name": "Python 3",
   "language": "python",
   "name": "python3"
  },
  "language_info": {
   "codemirror_mode": {
    "name": "ipython",
    "version": 3
   },
   "file_extension": ".py",
   "mimetype": "text/x-python",
   "name": "python",
   "nbconvert_exporter": "python",
   "pygments_lexer": "ipython3",
   "version": "3.7.6"
  }
 },
 "nbformat": 4,
 "nbformat_minor": 2
}
